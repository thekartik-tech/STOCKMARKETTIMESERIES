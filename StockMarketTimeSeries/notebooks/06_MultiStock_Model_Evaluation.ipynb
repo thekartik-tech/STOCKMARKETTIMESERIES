{
 "cells": [
  {
   "cell_type": "code",
   "execution_count": 1,
   "id": "d769dd52",
   "metadata": {},
   "outputs": [],
   "source": [
    "\n",
    "# Multi-Stock Model Evaluation\n",
    "\n",
    "import numpy as np\n",
    "from sklearn.metrics import mean_squared_error, mean_absolute_error\n",
    "\n",
    "# This notebook can be filled with actual evaluation once forecasts are generated.\n",
    "\n",
    "# Example:\n",
    "# true_values = ...\n",
    "# predicted_values = ...\n",
    "\n",
    "# rmse = np.sqrt(mean_squared_error(true_values, predicted_values))\n",
    "# mae = mean_absolute_error(true_values, predicted_values)\n",
    "\n",
    "# print(f'RMSE: {rmse}, MAE: {mae}')\n"
   ]
  }
 ],
 "metadata": {
  "kernelspec": {
   "display_name": "Python 3",
   "language": "python",
   "name": "python3"
  },
  "language_info": {
   "codemirror_mode": {
    "name": "ipython",
    "version": 3
   },
   "file_extension": ".py",
   "mimetype": "text/x-python",
   "name": "python",
   "nbconvert_exporter": "python",
   "pygments_lexer": "ipython3",
   "version": "3.12.1"
  }
 },
 "nbformat": 4,
 "nbformat_minor": 5
}
